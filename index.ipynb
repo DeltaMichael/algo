{
 "cells": [
  {
   "cell_type": "markdown",
   "id": "08f5b49a-aa12-4ae7-adb1-b12537e94ce2",
   "metadata": {
    "tags": []
   },
   "source": [
    "# Arrays"
   ]
  },
  {
   "cell_type": "markdown",
   "id": "4c011359",
   "metadata": {},
   "source": [
    "### Two Sum\n",
    "\n",
    "https://leetcode.com/problems/two-sum\n",
    "\n",
    "Given an array of integers `nums` and an integer `target`, return indices of the two numbers such that they add up to target.\n",
    "\n",
    "You may assume that each input would have exactly one solution, and you may not use the same element twice.\n",
    "\n",
    "You can return the answer in any order.\n",
    "\n",
    " \n",
    "```\n",
    "Example 1:\n",
    "\n",
    "Input: nums = [2,7,11,15], target = 9\n",
    "Output: [0,1]\n",
    "Explanation: Because nums[0] + nums[1] == 9, we return [0, 1].\n",
    "Example 2:\n",
    "\n",
    "Input: nums = [3,2,4], target = 6\n",
    "Output: [1,2]\n",
    "Example 3:\n",
    "\n",
    "Input: nums = [3,3], target = 6\n",
    "Output: [0,1]\n",
    "``` \n",
    "\n",
    "Constraints:\n",
    "```\n",
    "2 <= nums.length <= 104\n",
    "-109 <= nums[i] <= 109\n",
    "-109 <= target <= 109\n",
    "Only one valid answer exists.\n",
    "```"
   ]
  },
  {
   "cell_type": "code",
   "execution_count": 2,
   "id": "071a442d-1c4c-49c6-8e65-f70c47add908",
   "metadata": {},
   "outputs": [
    {
     "name": "stdout",
     "output_type": "stream",
     "text": [
      "[2, 3, 7, 11, 15]: nums[1] + nums[3] = 14\n",
      "[3, 2, 4]: nums[1] + nums[2] = 6\n",
      "[3, 3]: nums[0] + nums[1] = 6\n"
     ]
    }
   ],
   "source": [
    "from typing import List\n",
    "\n",
    "\n",
    "class Solution:\n",
    "    def twoSum(self, nums: List[int], target: int) -> List[int]:\n",
    "        seen = {}\n",
    "        for index, num in enumerate(nums):\n",
    "            comp = target - num\n",
    "            if comp in seen:\n",
    "                return [seen[comp], index]\n",
    "            else:\n",
    "                seen[num] = index\n",
    "        return []\n",
    "\n",
    "def show_result(nums, target):\n",
    "    out = Solution().twoSum(nums, target)\n",
    "    print(\"{}: nums[{}] + nums[{}] = {}\".format(nums, out[0], out[1], target))\n",
    "\n",
    "show_result([2,3,7,11,15], 14)\n",
    "show_result([3,2,4], 6)\n",
    "show_result([3,3], 6)"
   ]
  },
  {
   "cell_type": "markdown",
   "id": "5d381b15",
   "metadata": {},
   "source": [
    "# Trees"
   ]
  },
  {
   "cell_type": "markdown",
   "id": "289f4738",
   "metadata": {},
   "source": [
    "### Binary Tree Maximum Path Sum\n",
    "\n",
    "A path in a binary tree is a sequence of nodes where each pair of adjacent nodes in the sequence has an edge connecting them. A node can only appear in the sequence at most once. Note that the path does not need to pass through the root.\n",
    "\n",
    "The path sum of a path is the sum of the node's values in the path.\n",
    "\n",
    "Given the root of a binary tree, return the maximum path sum of any non-empty path.\n",
    "\n",
    "Example 1:\n",
    "\n",
    "![img](https://assets.leetcode.com/uploads/2020/10/13/exx1.jpg)\n",
    "```\n",
    "Input: root = [1,2,3]\n",
    "Output: 6\n",
    "Explanation: The optimal path is 2 -> 1 -> 3 with a path sum of 2 + 1 + 3 = 6.\n",
    "Example 2:\n",
    "```\n",
    "\n",
    "![img](https://assets.leetcode.com/uploads/2020/10/13/exx2.jpg)\n",
    "Example 2:\n",
    "```\n",
    "Input: root = [-10,9,20,null,null,15,7]\n",
    "Output: 42\n",
    "Explanation: The optimal path is 15 -> 20 -> 7 with a path sum of 15 + 20 + 7 = 42.\n",
    "``` \n",
    "\n",
    "Constraints:\n",
    "```\n",
    "The number of nodes in the tree is in the range [1, 3 * 104].\n",
    "-1000 <= Node.val <= 1000\n",
    "```\n",
    "\n",
    "#### Solution\n",
    "\n",
    "##### Observations\n",
    "\n",
    "A path consists of a left and right subtree, connected by a root. The root signifies that the path has been completed. After the root has been added, we cannot keep adding nodes above the root.\n",
    "\n",
    "The left and right subtree are basically a bunch of nodes with only a left or right child. These nodes form a continuous path.\n",
    "\n",
    "If both the left and right subtree are negative, it's not even worth considering ending the path there, because we will always lose value. It's best to consider a negative path to be 0 for easier calculation\n",
    "\n",
    "When we traverse the tree and land on a specific node, we have three choices.\n",
    "\n",
    "1. We pick both the left and right subtree, add them to the node and end the path there\n",
    "2. We pick the left subtree, add current value to it and continue traversing\n",
    "3. We pick the right subtree, add current value to it and continue traversing\n",
    "\n",
    "##### Description\n",
    "```\n",
    "Base case:\n",
    "    If current node is null -> return 0\n",
    "Common case:\n",
    "    traverse left subtree recursively\n",
    "    traverse right subtree recursively\n",
    "    pick the max of 0 and left sum\n",
    "    pick the max of 0 and right sum\n",
    "    add the current node and both max values and compare to global max\n",
    "        set global max to current max if current max is greater\n",
    "    return max of current_node + left_max and current node + right max\n",
    "```\n",
    "\n",
    "##### Example\n",
    "\n",
    "The left and right squares above each node represent the max sum for each subtree when that node is reached on traversal. The middle square represents the sum if we were to choose that node and complete the path. The max path value is clearly 23.\n",
    "\n",
    "![img](img/binary-tree-max-path.png)\n"
   ]
  },
  {
   "cell_type": "code",
   "execution_count": 6,
   "id": "a75cd68e",
   "metadata": {},
   "outputs": [
    {
     "name": "stdout",
     "output_type": "stream",
     "text": [
      "42\n",
      "23\n"
     ]
    }
   ],
   "source": [
    "from typing import Optional\n",
    "\n",
    "class TreeNode:\n",
    "    def __init__(self, val=0, left=None, right=None):\n",
    "        self.val = val\n",
    "        self.left = left\n",
    "        self.right = right\n",
    "\n",
    "\n",
    "class Solution:\n",
    "    def maxPathSum(self, root: Optional[TreeNode]) -> int:\n",
    "        max_path = float('-inf')\n",
    "\n",
    "        def get_max_gain(node):\n",
    "            nonlocal max_path\n",
    "            if not node:\n",
    "                return 0\n",
    "\n",
    "            left_gain = max(get_max_gain(node.left), 0)\n",
    "            right_gain = max(get_max_gain(node.right), 0)\n",
    "\n",
    "            stop_gain = node.val + left_gain + right_gain\n",
    "            max_path = max(max_path, stop_gain)\n",
    "\n",
    "            return max(node.val + left_gain, node.val + right_gain)\n",
    "        get_max_gain(root)\n",
    "        return max_path\n",
    "\n",
    "data = TreeNode(-10, TreeNode(9), TreeNode(20, TreeNode(15), TreeNode(7)))\n",
    "out = Solution().maxPathSum(data)\n",
    "print(out)\n",
    "\n",
    "data = TreeNode(-10, TreeNode(5, TreeNode(-2, TreeNode(-5), TreeNode(-8))), TreeNode(-1, right=TreeNode(5, TreeNode(3, TreeNode(1, TreeNode(8), TreeNode(4)), TreeNode(2)), TreeNode(6))))\n",
    "out = Solution().maxPathSum(data)\n",
    "print(out)\n"
   ]
  },
  {
   "cell_type": "code",
   "execution_count": null,
   "id": "97a17b9b",
   "metadata": {},
   "outputs": [],
   "source": []
  }
 ],
 "metadata": {
  "kernelspec": {
   "display_name": "Python 3 (ipykernel)",
   "language": "python",
   "name": "python3"
  },
  "language_info": {
   "codemirror_mode": {
    "name": "ipython",
    "version": 3
   },
   "file_extension": ".py",
   "mimetype": "text/x-python",
   "name": "python",
   "nbconvert_exporter": "python",
   "pygments_lexer": "ipython3",
   "version": "3.10.8"
  }
 },
 "nbformat": 4,
 "nbformat_minor": 5
}
